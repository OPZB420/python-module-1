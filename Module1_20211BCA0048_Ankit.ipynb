{
  "nbformat": 4,
  "nbformat_minor": 0,
  "metadata": {
    "colab": {
      "name": "Module1_20211BCA0047_Akhil",
      "provenance": [],
      "collapsed_sections": []
    },
    "kernelspec": {
      "name": "python3",
      "display_name": "Python 3"
    },
    "language_info": {
      "name": "python"
    }
  },
  "cells": [
    {
      "cell_type": "code",
      "execution_count": null,
      "metadata": {
        "colab": {
          "base_uri": "https://localhost:8080/"
        },
        "id": "7e_4Cv75snHH",
        "outputId": "35772fe5-bba1-427e-a65a-6eaa16f26035"
      },
      "outputs": [
        {
          "data": {
            "text/plain": [
              "2.4"
            ]
          },
          "execution_count": 1,
          "metadata": {},
          "output_type": "execute_result"
        }
      ],
      "source": [
        "12/5"
      ]
    },
    {
      "cell_type": "code",
      "execution_count": null,
      "metadata": {
        "colab": {
          "base_uri": "https://localhost:8080/"
        },
        "id": "kLMnSLOU1RBk",
        "outputId": "b6db0d48-7ce9-455c-d2e7-af66ada71780"
      },
      "outputs": [
        {
          "name": "stdout",
          "output_type": "stream",
          "text": [
            "0.33\n"
          ]
        }
      ],
      "source": [
        "print(format(1/3,'.2f'))"
      ]
    },
    {
      "cell_type": "code",
      "execution_count": null,
      "metadata": {
        "colab": {
          "base_uri": "https://localhost:8080/"
        },
        "id": "86sWREx72j7K",
        "outputId": "c7b5e814-97e8-447e-9409-e1196c268589"
      },
      "outputs": [
        {
          "name": "stdout",
          "output_type": "stream",
          "text": [
            "Hello \n",
            "Jenifer\n"
          ]
        }
      ],
      "source": [
        "print('Hello \\nJenifer')"
      ]
    },
    {
      "cell_type": "code",
      "execution_count": null,
      "metadata": {
        "colab": {
          "base_uri": "https://localhost:8080/"
        },
        "id": "XGjomcBl285h",
        "outputId": "056a6ed4-479f-4960-ff48-f6749657621b"
      },
      "outputs": [
        {
          "name": "stdout",
          "output_type": "stream",
          "text": [
            "Hello world \n",
            " \n",
            "\n"
          ]
        }
      ],
      "source": [
        "print('Hello world \\n \\n')"
      ]
    },
    {
      "cell_type": "code",
      "execution_count": null,
      "metadata": {
        "colab": {
          "base_uri": "https://localhost:8080/"
        },
        "id": "NTfafyDq3JLo",
        "outputId": "e4715562-a433-4384-e1c7-ee5e538ca8b9"
      },
      "outputs": [
        {
          "name": "stdout",
          "output_type": "stream",
          "text": [
            "1 \n",
            "2 \n",
            "3\n"
          ]
        }
      ],
      "source": [
        "print('1 \\n2 \\n3')"
      ]
    },
    {
      "cell_type": "code",
      "execution_count": null,
      "metadata": {
        "colab": {
          "base_uri": "https://localhost:8080/"
        },
        "id": "Yd7ynhy73bLB",
        "outputId": "154d8fbb-c515-4092-8cf1-fb21b628ff36"
      },
      "outputs": [
        {
          "name": "stdout",
          "output_type": "stream",
          "text": [
            "\n",
            " Hello World\n"
          ]
        }
      ],
      "source": [
        "print('\\n Hello World')"
      ]
    },
    {
      "cell_type": "code",
      "execution_count": null,
      "metadata": {
        "colab": {
          "base_uri": "https://localhost:8080/"
        },
        "id": "6oc7eMQZ3iZB",
        "outputId": "42a50ffc-7551-4998-c192-cad634096896"
      },
      "outputs": [
        {
          "name": "stdout",
          "output_type": "stream",
          "text": [
            "A \t B \t C \t D\n",
            "E \t F \t G\n",
            "H \t I\n",
            "J\n"
          ]
        }
      ],
      "source": [
        "print('A \\t B \\t C \\t D')\n",
        "print('E \\t F \\t G')\n",
        "print('H \\t I')\n",
        "print('J')"
      ]
    },
    {
      "cell_type": "code",
      "execution_count": null,
      "metadata": {
        "colab": {
          "base_uri": "https://localhost:8080/",
          "height": 35
        },
        "id": "B0WAqTq76K_P",
        "outputId": "8e764822-5de0-4556-93b1-66bbb8e41635"
      },
      "outputs": [
        {
          "data": {
            "application/vnd.google.colaboratory.intrinsic+json": {
              "type": "string"
            },
            "text/plain": [
              "'Hello               '"
            ]
          },
          "execution_count": 19,
          "metadata": {},
          "output_type": "execute_result"
        }
      ],
      "source": [
        "format('Hello','<20')"
      ]
    },
    {
      "cell_type": "code",
      "execution_count": null,
      "metadata": {
        "colab": {
          "base_uri": "https://localhost:8080/",
          "height": 35
        },
        "id": "33l9pVy16fTC",
        "outputId": "9ab8bd59-49d5-4ce8-bb05-c1ce5180fa96"
      },
      "outputs": [
        {
          "data": {
            "application/vnd.google.colaboratory.intrinsic+json": {
              "type": "string"
            },
            "text/plain": [
              "'     Hello'"
            ]
          },
          "execution_count": 33,
          "metadata": {},
          "output_type": "execute_result"
        }
      ],
      "source": [
        "format('Hello','>10')"
      ]
    },
    {
      "cell_type": "code",
      "execution_count": null,
      "metadata": {
        "colab": {
          "base_uri": "https://localhost:8080/"
        },
        "id": "ivLgMPLL6wVz",
        "outputId": "80afc8f4-432f-4f3d-f96c-71f2b7b708d6"
      },
      "outputs": [
        {
          "name": "stdout",
          "output_type": "stream",
          "text": [
            "Very Good Morning ,,,,,,,,,,,,,,,,,,,,,,,,,,,,,, \n",
            " .............................. Have a Nice day!\n"
          ]
        }
      ],
      "source": [
        "print('Very Good Morning',format(',',',<30'),'\\n',format('.','.<30'),'Have a Nice day!')"
      ]
    },
    {
      "cell_type": "code",
      "execution_count": null,
      "metadata": {
        "colab": {
          "base_uri": "https://localhost:8080/"
        },
        "id": "-yST54hnHjTa",
        "outputId": "f67f986a-9d79-4410-c5ff-6146a170418d"
      },
      "outputs": [
        {
          "name": "stdout",
          "output_type": "stream",
          "text": [
            "     * \n",
            "    $$$ \n",
            "  $$$$$$$ \n",
            "&*********&\n"
          ]
        }
      ],
      "source": [
        "print('    ',\"*\", format('\\n    ','$<8'),format('\\n  $','$<10'),\n",
        "format('\\n&','*<11')+'&')"
      ]
    },
    {
      "cell_type": "code",
      "execution_count": null,
      "metadata": {
        "colab": {
          "base_uri": "https://localhost:8080/"
        },
        "id": "gJu6SiWQOHYQ",
        "outputId": "af199bc9-98b0-452b-c480-cff015bb755c"
      },
      "outputs": [
        {
          "name": "stdout",
          "output_type": "stream",
          "text": [
            "8.000000%\n"
          ]
        }
      ],
      "source": [
        "print(format(0.08,'%'))\n"
      ]
    },
    {
      "cell_type": "code",
      "execution_count": null,
      "metadata": {
        "colab": {
          "base_uri": "https://localhost:8080/"
        },
        "id": "4KZsXkzzPkac",
        "outputId": "b526a7b8-a50d-444d-8cad-e84c034d949b"
      },
      "outputs": [
        {
          "name": "stdout",
          "output_type": "stream",
          "text": [
            "11111111\n"
          ]
        }
      ],
      "source": [
        "print(format(255,'b'))"
      ]
    },
    {
      "cell_type": "code",
      "execution_count": null,
      "metadata": {
        "colab": {
          "base_uri": "https://localhost:8080/"
        },
        "id": "60b1ZREyRB6T",
        "outputId": "0e76721d-71ae-4adb-f827-b92133b2da1b"
      },
      "outputs": [
        {
          "name": "stdout",
          "output_type": "stream",
          "text": [
            "name: Damini age: 17\n"
          ]
        }
      ],
      "source": [
        "emp_name=\"Damini\"\n",
        "emp_age=17\n",
        "print(\"name: %s age: %d\"%(emp_name,emp_age))"
      ]
    },
    {
      "cell_type": "code",
      "execution_count": null,
      "metadata": {
        "colab": {
          "base_uri": "https://localhost:8080/"
        },
        "id": "Ep4Qo6EPUQdG",
        "outputId": "ed35cdaa-6fc1-4912-f7e1-874b495a5af2"
      },
      "outputs": [
        {
          "name": "stdout",
          "output_type": "stream",
          "text": [
            "name: 17 age: Damini\n"
          ]
        }
      ],
      "source": [
        "emp_name=\"Damini\"\n",
        "emp_age=17\n",
        "print(\"name: %d age: %s\"%(emp_age,emp_name))"
      ]
    },
    {
      "cell_type": "code",
      "execution_count": null,
      "metadata": {
        "colab": {
          "base_uri": "https://localhost:8080/"
        },
        "id": "xURmZXxPUmlm",
        "outputId": "5e109ed1-7c66-432d-f4b6-b26618eec218"
      },
      "outputs": [
        {
          "name": "stdout",
          "output_type": "stream",
          "text": [
            "name:Damini \n",
            "age:17 \n",
            "salary:15000 \n",
            "id:321\n"
          ]
        }
      ],
      "source": [
        "emp_name=\"Damini\"\n",
        "emp_age=17\n",
        "emp_salary=15000\n",
        "emp_id=321\n",
        "print(\"name:{} \\nage:{} \\nsalary:{} \\nid:{}\".format(emp_name,emp_age,emp_salary,emp_id))"
      ]
    },
    {
      "cell_type": "code",
      "execution_count": null,
      "metadata": {
        "colab": {
          "base_uri": "https://localhost:8080/"
        },
        "id": "yFR13lOEXPBP",
        "outputId": "d75b9f2a-1f81-4eda-9d66-0feb5ae0dc50"
      },
      "outputs": [
        {
          "name": "stdout",
          "output_type": "stream",
          "text": [
            "name:Damini \n",
            "age:17 \n",
            "salary:15000 \n",
            "id:321\n"
          ]
        }
      ],
      "source": [
        "emp_name=\"Damini\"\n",
        "emp_age=17\n",
        "emp_salary=15000\n",
        "emp_id=321\n",
        "print(\"name:{0} \\nage:{1} \\nsalary:{2} \\nid:{3}\".format(emp_name,emp_age,emp_salary,emp_id))"
      ]
    },
    {
      "cell_type": "code",
      "execution_count": null,
      "metadata": {
        "colab": {
          "base_uri": "https://localhost:8080/",
          "height": 35
        },
        "id": "t1IJsoF6Xz-5",
        "outputId": "4d66fcfa-1fba-4927-d717-1d4dc57e6ff4"
      },
      "outputs": [
        {
          "data": {
            "application/vnd.google.colaboratory.intrinsic+json": {
              "type": "string"
            },
            "text/plain": [
              "'     madhu     '"
            ]
          },
          "execution_count": 99,
          "metadata": {},
          "output_type": "execute_result"
        }
      ],
      "source": [
        "format('madhu','^15')"
      ]
    },
    {
      "cell_type": "code",
      "execution_count": null,
      "metadata": {
        "colab": {
          "base_uri": "https://localhost:8080/"
        },
        "id": "GBFHdaIlZKVE",
        "outputId": "a9732ee8-0a6a-403e-d653-d2f82f25561d"
      },
      "outputs": [
        {
          "name": "stdout",
          "output_type": "stream",
          "text": [
            "<class 'int'>\n"
          ]
        }
      ],
      "source": [
        "print(type(emp_age))"
      ]
    },
    {
      "cell_type": "code",
      "execution_count": null,
      "metadata": {
        "colab": {
          "base_uri": "https://localhost:8080/"
        },
        "id": "Y_vU2IxNaKxA",
        "outputId": "2795de2b-1108-4562-9d22-276721b54e4d"
      },
      "outputs": [
        {
          "name": "stdout",
          "output_type": "stream",
          "text": [
            "<class 'str'>\n"
          ]
        }
      ],
      "source": [
        "print(type(emp_name))"
      ]
    },
    {
      "cell_type": "code",
      "execution_count": null,
      "metadata": {
        "colab": {
          "base_uri": "https://localhost:8080/"
        },
        "id": "F_F18RSfaTWj",
        "outputId": "9f8ff29c-1f31-40d0-c702-508c24e4518f"
      },
      "outputs": [
        {
          "output_type": "stream",
          "name": "stdout",
          "text": [
            "<class 'int'>\n",
            "<class 'int'>\n"
          ]
        }
      ],
      "source": [
        "a=50\n",
        "b=a\n",
        "print(type(a))\n",
        "print(type(b))"
      ]
    },
    {
      "cell_type": "code",
      "execution_count": null,
      "metadata": {
        "colab": {
          "base_uri": "https://localhost:8080/"
        },
        "id": "90mEurl3axOF",
        "outputId": "9b6b75a0-874d-4398-be11-0e62c81630c3"
      },
      "outputs": [
        {
          "name": "stdout",
          "output_type": "stream",
          "text": [
            "94467078786144\n",
            "94467078787104\n"
          ]
        }
      ],
      "source": [
        "a=50\n",
        "b=a\n",
        "a=20\n",
        "print(id(a))\n",
        "print(id(b))"
      ]
    },
    {
      "cell_type": "code",
      "execution_count": null,
      "metadata": {
        "colab": {
          "base_uri": "https://localhost:8080/"
        },
        "id": "0-l-SQkNsxIC",
        "outputId": "219873c2-21ae-438a-eca6-28c96ca2d2aa"
      },
      "outputs": [
        {
          "name": "stdout",
          "output_type": "stream",
          "text": [
            "1 2 john\n"
          ]
        }
      ],
      "source": [
        "a=b=c=1\n",
        "a,b,c=1,2,'john'\n",
        "print(a,b,c)"
      ]
    },
    {
      "cell_type": "code",
      "execution_count": null,
      "metadata": {
        "colab": {
          "base_uri": "https://localhost:8080/"
        },
        "id": "GpKM9pnVtT3a",
        "outputId": "60277719-249a-4eeb-95ac-284e11926531"
      },
      "outputs": [
        {
          "name": "stdout",
          "output_type": "stream",
          "text": [
            "y= 1.25 *x+ 0.5\n"
          ]
        }
      ],
      "source": [
        "x1,y1=2,3 #point one\n",
        "x2,y2=6,8 #point two\n",
        "m,b=float(y1-y2)/(x1-x2),y1-float(y1-y2)/(x1-x2)*x1\n",
        "print('y=',m,'*x+',b)"
      ]
    },
    {
      "cell_type": "code",
      "execution_count": null,
      "metadata": {
        "colab": {
          "base_uri": "https://localhost:8080/"
        },
        "id": "rlTa2eBQv8RF",
        "outputId": "f819952d-078c-4bc5-88cc-fc2d6775e995"
      },
      "outputs": [
        {
          "name": "stdout",
          "output_type": "stream",
          "text": [
            "What is your name?Madhusudhan\n",
            "Entered name is Madhusudhan\n"
          ]
        }
      ],
      "source": [
        "name=input('What is your name?')\n",
        "print('Entered name is',name)"
      ]
    },
    {
      "cell_type": "code",
      "execution_count": null,
      "metadata": {
        "colab": {
          "base_uri": "https://localhost:8080/"
        },
        "id": "_AIYNX_s15Fw",
        "outputId": "2a40e6b9-4041-4505-8d9b-94b13f743ad7"
      },
      "outputs": [
        {
          "name": "stdout",
          "output_type": "stream",
          "text": [
            "What is your age? 25\n",
            "What is your gpa? 7.6\n"
          ]
        }
      ],
      "source": [
        "age=int(input('What is your age? '))\n",
        "gpa=float(input('What is your gpa? '))"
      ]
    },
    {
      "cell_type": "code",
      "execution_count": null,
      "metadata": {
        "colab": {
          "base_uri": "https://localhost:8080/"
        },
        "id": "le2T41Fm2ick",
        "outputId": "2fe819be-d2b8-4f26-a532-aec651b2310c"
      },
      "outputs": [
        {
          "name": "stdout",
          "output_type": "stream",
          "text": [
            "False\n",
            "True\n",
            "True\n",
            "False\n"
          ]
        }
      ],
      "source": [
        "import keyword\n",
        "print(keyword.iskeyword('int'))\n",
        "print(keyword.iskeyword('if'))\n",
        "print(keyword.iskeyword('yield'))\n",
        "print(keyword.iskeyword('exit'))"
      ]
    },
    {
      "cell_type": "code",
      "execution_count": null,
      "metadata": {
        "colab": {
          "base_uri": "https://localhost:8080/"
        },
        "id": "0KtyeS3T3B46",
        "outputId": "f0245fab-261a-438e-a2d8-7f6f3a4ce120"
      },
      "outputs": [
        {
          "name": "stdout",
          "output_type": "stream",
          "text": [
            "False\n",
            "True\n",
            "25\n",
            "8\n",
            "16\n",
            "4.5\n",
            "5\n",
            "201\n"
          ]
        }
      ],
      "source": [
        "print(10==35)\n",
        "print(10!=35)\n",
        "print(-10+35)\n",
        "print(4*2)\n",
        "print(4**2)\n",
        "print(45/10)\n",
        "print(2025%10)\n",
        "print(2015//10)"
      ]
    },
    {
      "cell_type": "code",
      "execution_count": null,
      "metadata": {
        "colab": {
          "base_uri": "https://localhost:8080/"
        },
        "id": "hLUbaTs14Tj-",
        "outputId": "58669701-80b7-4f26-ea73-b076ad497ee0"
      },
      "outputs": [
        {
          "name": "stdout",
          "output_type": "stream",
          "text": [
            "22\n",
            "6\n",
            "14\n",
            "11\n"
          ]
        }
      ],
      "source": [
        "print(2+3+4**2+1**3)\n",
        "print(2+((3*4)-8))\n",
        "print(2+(3*4))\n",
        "print(2+3*(4-1))"
      ]
    },
    {
      "cell_type": "code",
      "execution_count": null,
      "metadata": {
        "colab": {
          "base_uri": "https://localhost:8080/"
        },
        "id": "oHx-IxB0JDdF",
        "outputId": "ddc88e5c-2f71-4d84-bea2-fb85938b99fa"
      },
      "outputs": [
        {
          "name": "stdout",
          "output_type": "stream",
          "text": [
            "What is the temperature in Fahrenheit?: 23\n",
            "-5.00\n"
          ]
        }
      ],
      "source": [
        "f=int(input(\"What is the temperature in Fahrenheit?: \"))\n",
        "cel=((f-32)*5)/9\n",
        "print(format(cel,'.2f'))"
      ]
    },
    {
      "cell_type": "code",
      "execution_count": null,
      "metadata": {
        "colab": {
          "base_uri": "https://localhost:8080/"
        },
        "id": "n-2BojxuJivK",
        "outputId": "16a59c33-75f0-4612-b2ea-49f87852bcd2"
      },
      "outputs": [
        {
          "name": "stdout",
          "output_type": "stream",
          "text": [
            "Enter temperature: 50\n",
            "125.00\n"
          ]
        }
      ],
      "source": [
        "c=int(input('Enter temperature: '))\n",
        "f=float((c*9/5)+35)\n",
        "print(format(f,'.2f'))"
      ]
    },
    {
      "cell_type": "code",
      "execution_count": null,
      "metadata": {
        "colab": {
          "base_uri": "https://localhost:8080/"
        },
        "id": "Ep5YBM7wKfGR",
        "outputId": "67425b0d-5d78-46bd-97bd-42f82f7c478d"
      },
      "outputs": [
        {
          "name": "stdout",
          "output_type": "stream",
          "text": [
            "Enter a value: 98\n",
            "Enter b value: 57\n",
            "Enter c value: 33\n",
            "Sum of 3 numbers is: 188\n"
          ]
        }
      ],
      "source": [
        "\"\"\"SUM OF THREE INTEGERS\"\"\"\n",
        "\n",
        "a=int(input(\"Enter a value: \"))\n",
        "b=int(input(\"Enter b value: \"))\n",
        "c=int(input(\"Enter c value: \"))\n",
        "print('Sum of 3 numbers is:',a+b+c)"
      ]
    },
    {
      "cell_type": "code",
      "execution_count": null,
      "metadata": {
        "colab": {
          "base_uri": "https://localhost:8080/"
        },
        "id": "MGB58ZXjLubC",
        "outputId": "9acf1d65-10fa-42e6-d3eb-ac1b3af4fd1f"
      },
      "outputs": [
        {
          "name": "stdout",
          "output_type": "stream",
          "text": [
            "Enter a value: 34\n",
            "Enter b value: 43\n",
            "77.00\n"
          ]
        }
      ],
      "source": [
        "a=int(input('Enter a value: '))\n",
        "b=int(input('Enter b value: '))\n",
        "print(format(a+b,'.2f'))"
      ]
    },
    {
      "cell_type": "code",
      "execution_count": null,
      "metadata": {
        "colab": {
          "base_uri": "https://localhost:8080/"
        },
        "id": "gcg-Mc6LMEfA",
        "outputId": "612e09d8-e06d-47dd-aff5-09f00a64f38e"
      },
      "outputs": [
        {
          "name": "stdout",
          "output_type": "stream",
          "text": [
            "Enter first number: 32\n",
            "Enter second number: 54\n",
            "The sum of 32.0 and 54.0 is: 86.0\n"
          ]
        }
      ],
      "source": [
        "'''Placeholders'''\n",
        "\n",
        "num1=float(input('Enter first number: '))\n",
        "num2=float(input('Enter second number: '))\n",
        "sum=num1+num2\n",
        "print('The sum of {0} and {1} is: {2}'.format(num1,num2,sum))"
      ]
    },
    {
      "cell_type": "code",
      "execution_count": null,
      "metadata": {
        "colab": {
          "base_uri": "https://localhost:8080/"
        },
        "id": "Q1C1hVjJM7HW",
        "outputId": "ffb42688-4a1d-4467-9568-208ba76c2268"
      },
      "outputs": [
        {
          "name": "stdout",
          "output_type": "stream",
          "text": [
            "My name is John,i am 36\n",
            "My name is John,i am 36\n",
            "My name is John,i am 36\n"
          ]
        }
      ],
      "source": [
        "'''Placeholders'''\n",
        "\n",
        "txt1='My name is {fname},i am {age}'.format(fname='John',age=36)\n",
        "txt2='My name is {0},i am {1}'.format('John',36)\n",
        "txt3='My name is {},i am {}'.format('John',36)\n",
        "print(txt1)\n",
        "print(txt2)\n",
        "print(txt3)"
      ]
    },
    {
      "cell_type": "code",
      "execution_count": null,
      "metadata": {
        "colab": {
          "base_uri": "https://localhost:8080/"
        },
        "id": "72N-TAagI0Z0",
        "outputId": "b2d97900-d309-43ca-8d43-ef8f166cec61"
      },
      "outputs": [
        {
          "name": "stdout",
          "output_type": "stream",
          "text": [
            "Before swapping: {a}  10\n",
            "Before swapping: {b}  20\n",
            "After swapping: {a}  20\n",
            "After swapping: {b}  10\n"
          ]
        }
      ],
      "source": [
        "'''SWAPPING TWO NUMBERS'''\n",
        "a,b=10,20\n",
        "print('Before swapping: {a} ',a)\n",
        "print('Before swapping: {b} ',b)\n",
        "a,b=b,a\n",
        "print('After swapping: {a} ',a)\n",
        "print('After swapping: {b} ',b)"
      ]
    },
    {
      "cell_type": "code",
      "execution_count": null,
      "metadata": {
        "colab": {
          "base_uri": "https://localhost:8080/"
        },
        "id": "vI0eYywxORkg",
        "outputId": "fee5fe52-3b44-4a1c-80af-985811435152"
      },
      "outputs": [
        {
          "name": "stdout",
          "output_type": "stream",
          "text": [
            "Enter radius of the circle: 20\n",
            "Area of the circle is= 1256.00 \n"
          ]
        }
      ],
      "source": [
        "'''Area of the circle'''\n",
        "\n",
        "pi=3.14\n",
        "r=float(input('Enter radius of the circle: '))\n",
        "area=pi*(r*r)\n",
        "print('Area of the circle is= %.2f '%(area))"
      ]
    },
    {
      "cell_type": "code",
      "execution_count": null,
      "metadata": {
        "colab": {
          "base_uri": "https://localhost:8080/"
        },
        "id": "00pyVQvZdp9A",
        "outputId": "c341221a-f892-46d8-c87b-6aa77c7a104e"
      },
      "outputs": [
        {
          "name": "stdout",
          "output_type": "stream",
          "text": [
            "Enter x value: 4\n",
            "Enter y value: 2\n",
            "X power Y is:  16\n"
          ]
        }
      ],
      "source": [
        "x=int(input('Enter x value: '))\n",
        "y=int(input('Enter y value: '))\n",
        "power=x**y\n",
        "print('X power Y is: ',power)"
      ]
    },
    {
      "cell_type": "code",
      "execution_count": null,
      "metadata": {
        "colab": {
          "base_uri": "https://localhost:8080/"
        },
        "id": "r6qWiRsrUtAr",
        "outputId": "d10e7088-708a-48a6-9695-e502e3ff0683"
      },
      "outputs": [
        {
          "name": "stdout",
          "output_type": "stream",
          "text": [
            "The solution are (-1-1.4142135623730951j) and (-1+1.4142135623730951j)\n"
          ]
        }
      ],
      "source": [
        "import cmath\n",
        "\n",
        "a=2\n",
        "b=4\n",
        "c=6\n",
        "d=(b**2)-(4*a*c)\n",
        "sol1=(-b- cmath.sqrt(d))/(2*a)\n",
        "sol2=(-b+ cmath.sqrt(d))/(2*a)\n",
        "print('The solution are {0} and {1}'.format(sol1,sol2))"
      ]
    },
    {
      "cell_type": "code",
      "execution_count": null,
      "metadata": {
        "colab": {
          "base_uri": "https://localhost:8080/"
        },
        "id": "ZsNEhNW6Sa2c",
        "outputId": "44bd5431-c685-4229-8bba-daa7a2aab003"
      },
      "outputs": [
        {
          "output_type": "stream",
          "name": "stdout",
          "text": [
            "Enter the value of b: 5\n",
            "Enter the value of h: 5\n",
            "The area of the triangle is: 12.5\n"
          ]
        }
      ],
      "source": [
        "'''Area of a Traiangle'''\n",
        "\n",
        "b=int(input('Enter the value of b: '))\n",
        "h=int(input('Enter the value of h: '))\n",
        "area=1/2*b*h\n",
        "print('The area of the triangle is:',area)"
      ]
    },
    {
      "cell_type": "code",
      "execution_count": null,
      "metadata": {
        "colab": {
          "base_uri": "https://localhost:8080/"
        },
        "id": "BPxL8HrQVMFm",
        "outputId": "fca83f4e-f004-4acc-d64a-ed1ece2cc89f"
      },
      "outputs": [
        {
          "name": "stdout",
          "output_type": "stream",
          "text": [
            "Enter the number: 5\n",
            "The area of a Square is 25.00\n"
          ]
        }
      ],
      "source": [
        "'''Area of a Square'''\n",
        "\n",
        "s=float(input('Enter the number: '))\n",
        "side=s*s\n",
        "print('The area of a Square is %.2f'%side)"
      ]
    },
    {
      "cell_type": "code",
      "execution_count": null,
      "metadata": {
        "colab": {
          "base_uri": "https://localhost:8080/"
        },
        "id": "nWNHmd3fjRID",
        "outputId": "47e1bfd1-b838-40f9-88f4-e1efc12ca014"
      },
      "outputs": [
        {
          "name": "stdout",
          "output_type": "stream",
          "text": [
            "Enter the width: 7\n",
            "Enter the height: 9\n",
            "Area of the Rectangle 63.00\n"
          ]
        }
      ],
      "source": [
        "'''Area of a Rectangle'''\n",
        "\n",
        "w=float(input('Enter the width: '))\n",
        "h=float(input('Enter the height: '))\n",
        "area=w*h\n",
        "print('Area of the Rectangle %.2f'%area)"
      ]
    },
    {
      "cell_type": "code",
      "execution_count": null,
      "metadata": {
        "colab": {
          "base_uri": "https://localhost:8080/"
        },
        "id": "_FS3tXQnupBx",
        "outputId": "86e73014-05ab-43ce-ba17-0337d5bc8ac0"
      },
      "outputs": [
        {
          "data": {
            "text/plain": [
              "15"
            ]
          },
          "execution_count": 3,
          "metadata": {},
          "output_type": "execute_result"
        }
      ],
      "source": [
        "import random\n",
        "random.randint(0,99)"
      ]
    },
    {
      "cell_type": "code",
      "execution_count": null,
      "metadata": {
        "colab": {
          "base_uri": "https://localhost:8080/"
        },
        "id": "5cMCFtfUw660",
        "outputId": "32ace731-4c51-4e6a-fcdf-cef2dd3c8ffc"
      },
      "outputs": [
        {
          "name": "stdout",
          "output_type": "stream",
          "text": [
            "100000\n",
            "100\n",
            "80\n"
          ]
        }
      ],
      "source": [
        "print(format(32,'b'))\n",
        "print(format(64,'o'))\n",
        "print(format(128,'x'))"
      ]
    },
    {
      "cell_type": "code",
      "execution_count": null,
      "metadata": {
        "colab": {
          "base_uri": "https://localhost:8080/"
        },
        "id": "3dSOUXvH91nw",
        "outputId": "de727524-00e8-43d0-9e1d-4e6310c792ec"
      },
      "outputs": [
        {
          "name": "stdout",
          "output_type": "stream",
          "text": [
            "Enter the Mass value(Kgs): 45\n",
            "Enter the velocity value: 34\n",
            "The momentum in (m/s) is: 1530\n"
          ]
        }
      ],
      "source": [
        "m=int(input('Enter the Mass value(Kgs): '))\n",
        "v=int(input('Enter the velocity value: '))\n",
        "mov=m*v\n",
        "print('The momentum in (m/s) is:',mov)"
      ]
    },
    {
      "cell_type": "code",
      "execution_count": null,
      "metadata": {
        "colab": {
          "base_uri": "https://localhost:8080/"
        },
        "id": "_BeCBY-wc2Nb",
        "outputId": "b8aa1788-72cc-462b-e378-e755cd675509"
      },
      "outputs": [
        {
          "name": "stdout",
          "output_type": "stream",
          "text": [
            "Enter 1 digit Binary Number from the right most bit: 1\n",
            "Enter 1 digit Binary Number from the right most bit: 1\n",
            "Enter 1 digit Binary Number from the right most bit: 1\n",
            "Enter 1 digit Binary Number from the right most bit: 1\n",
            "The decimal value is:  15\n"
          ]
        }
      ],
      "source": [
        "n,s,x=1,0,0\n",
        "while n<=4:\n",
        "  a=int(input('Enter 1 digit Binary Number from the right most bit: '))\n",
        "  s=s+((2**x)*a)\n",
        "  x=x+1\n",
        "  n=n+1\n",
        "print('The decimal value is: ',s)"
      ]
    },
    {
      "cell_type": "code",
      "execution_count": null,
      "metadata": {
        "colab": {
          "base_uri": "https://localhost:8080/"
        },
        "id": "0ensJNuh-7bs",
        "outputId": "8ec9af76-360c-4433-9e5f-6dc874b6810b"
      },
      "outputs": [
        {
          "name": "stdout",
          "output_type": "stream",
          "text": [
            "2 3 5 7 "
          ]
        }
      ],
      "source": [
        "r=9  \n",
        "for a in range(2,r+1):  \n",
        "    k=0  \n",
        "    for i in range(2,a//2+1):  \n",
        "        if(a%i==0):  \n",
        "            k=k+1  \n",
        "    if(k<=0):  \n",
        "        print(a, end = \" \");  "
      ]
    },
    {
      "cell_type": "code",
      "execution_count": null,
      "metadata": {
        "colab": {
          "base_uri": "https://localhost:8080/"
        },
        "id": "9fG0I4lZ3kmo",
        "outputId": "f1e3a2ad-3f7c-4754-9ddd-caa50ace9873"
      },
      "outputs": [
        {
          "name": "stdout",
          "output_type": "stream",
          "text": [
            "ONE\n"
          ]
        }
      ],
      "source": [
        "num=1\n",
        "\n",
        "if num==1:\n",
        "    print('ONE')"
      ]
    },
    {
      "cell_type": "code",
      "execution_count": null,
      "metadata": {
        "colab": {
          "base_uri": "https://localhost:8080/"
        },
        "id": "mPD4GCMe2do2",
        "outputId": "d6b3ad9f-dadb-402c-a5b9-5584b47f39bb"
      },
      "outputs": [
        {
          "name": "stdout",
          "output_type": "stream",
          "text": [
            "We have a vehicle and its a BMW car\n"
          ]
        }
      ],
      "source": [
        "vehicle=1\n",
        "type='car'\n",
        "c='BMW'\n",
        "b='Honda'\n",
        "if vehicle:\n",
        "    if type=='car':\n",
        "        if c=='BMW':\n",
        "            print('We have a vehicle and its a BMW car')\n",
        "    if type=='bike':\n",
        "        if b=='Honda':\n",
        "            print('We have a vehicle and its a Honda bike')"
      ]
    },
    {
      "cell_type": "code",
      "execution_count": null,
      "metadata": {
        "colab": {
          "base_uri": "https://localhost:8080/"
        },
        "id": "wi10rff13c8F",
        "outputId": "effd6e06-f96c-47fa-d1c3-bd50229b1aa3"
      },
      "outputs": [
        {
          "name": "stdout",
          "output_type": "stream",
          "text": [
            "Do you own a vehicle: no\n",
            "You don\"t own a vehicle\n"
          ]
        }
      ],
      "source": [
        "vehicle=input('Do you own a vehicle: ')\n",
        "if vehicle=='yes':\n",
        "  type=input('Enter the type of vehicle: ')\n",
        "  if type=='car':\n",
        "    brand=input('Enter the brand of your car: ')\n",
        "    print('You own a: ',type)\n",
        "    print('Brand of the car is: ',brand)\n",
        "  if type=='bike':\n",
        "    brand=input('Enter the brand of your bike: ')\n",
        "    print('You own a: ',type)\n",
        "    print('Brand of the bike is: ',brand)\n",
        "else:\n",
        "  print('You don\"t own a vehicle')"
      ]
    },
    {
      "cell_type": "code",
      "execution_count": null,
      "metadata": {
        "colab": {
          "base_uri": "https://localhost:8080/"
        },
        "id": "a0N4eer95EBE",
        "outputId": "1d54a695-4ebe-40b7-e850-1812f4e937d2"
      },
      "outputs": [
        {
          "name": "stdout",
          "output_type": "stream",
          "text": [
            "Enter the number: 4\n",
            "even number\n"
          ]
        }
      ],
      "source": [
        "a=int(input('Enter the number: '))\n",
        "if(a%2)==0:\n",
        "    print(\"even number\")\n",
        "else:\n",
        "    print(\"ODD\")"
      ]
    },
    {
      "cell_type": "code",
      "execution_count": null,
      "metadata": {
        "colab": {
          "base_uri": "https://localhost:8080/"
        },
        "id": "ryJpBin8d-TO",
        "outputId": "f64d1cf1-d6e2-4e7b-b92c-bd1b37bed2ac"
      },
      "outputs": [
        {
          "name": "stdout",
          "output_type": "stream",
          "text": [
            "Enter the number: -1\n",
            "Negative number\n"
          ]
        }
      ],
      "source": [
        "num=float(input('Enter the number: '))\n",
        "if(num>0):\n",
        "    print('Positive Number')\n",
        "elif(num==0):\n",
        "    print('ZERO')\n",
        "else:\n",
        "    print('Negative number')"
      ]
    },
    {
      "cell_type": "code",
      "execution_count": null,
      "metadata": {
        "colab": {
          "base_uri": "https://localhost:8080/"
        },
        "id": "XrPm3w-a9S9C",
        "outputId": "ebb9e61b-d518-42fd-dd29-f31cb80972b5"
      },
      "outputs": [
        {
          "name": "stdout",
          "output_type": "stream",
          "text": [
            "Enter the 1st number: 20\n",
            "Enter the 2nd number: 20\n",
            "Equal\n"
          ]
        }
      ],
      "source": [
        "num1=int(input('Enter the 1st number: '))\n",
        "num2=int(input('Enter the 2nd number: '))\n",
        "if(num1 > num2):\n",
        "    print('num1 is greater')\n",
        "elif(num1 < num2):\n",
        "    print('num2 is greater')\n",
        "else:\n",
        "    print('Equal')"
      ]
    },
    {
      "cell_type": "code",
      "execution_count": null,
      "metadata": {
        "colab": {
          "base_uri": "https://localhost:8080/"
        },
        "id": "UsuP_CUo_h41",
        "outputId": "e8caa5fb-d7b4-44b6-adb5-768345588b28"
      },
      "outputs": [
        {
          "name": "stdout",
          "output_type": "stream",
          "text": [
            "Enter the character: d\n",
            "Invalid\n"
          ]
        }
      ],
      "source": [
        "ch=input('Enter the character: ')\n",
        "if(ch=='A'):\n",
        "    print(\"Apple\")\n",
        "elif(ch=='B'):\n",
        "    print(\"Banana\")\n",
        "elif(ch=='C'):\n",
        "    print(\"Coconut\")\n",
        "else:\n",
        "    print(\"Invalid\")"
      ]
    },
    {
      "cell_type": "code",
      "execution_count": null,
      "metadata": {
        "colab": {
          "base_uri": "https://localhost:8080/"
        },
        "id": "5HCq6qq-CGZn",
        "outputId": "6a47c2c0-78c5-4f6b-fee8-873698c9102a"
      },
      "outputs": [
        {
          "name": "stdout",
          "output_type": "stream",
          "text": [
            "Enter the num1 value: 10\n",
            "Enter the num2 value: 20\n",
            "Enter the num3 value: 30\n",
            "num3 is greatest\n"
          ]
        }
      ],
      "source": [
        "num1=float(input('Enter the num1 value: '))\n",
        "num2=float(input('Enter the num2 value: '))\n",
        "num3=float(input('Enter the num3 value: '))\n",
        "if(num1>num2):\n",
        "    if(num1>num3):\n",
        "        print('num1 is greatest')\n",
        "    else:\n",
        "        print('num3 is greatest')\n",
        "else: \n",
        "    if(num2>num3):\n",
        "        print('num2 is greatest')\n",
        "    else:\n",
        "        print('num3 is greatest')"
      ]
    },
    {
      "cell_type": "code",
      "execution_count": null,
      "metadata": {
        "colab": {
          "base_uri": "https://localhost:8080/"
        },
        "id": "TizOfIU_lLNU",
        "outputId": "c124e279-2dd7-4bfc-b6e0-bf16856cfb5b"
      },
      "outputs": [
        {
          "name": "stdout",
          "output_type": "stream",
          "text": [
            "Enter the score between 1 to 100: 58\n",
            "Grade F\n"
          ]
        }
      ],
      "source": [
        "num=int(input('Enter the score between 1 to 100: '))\n",
        "if(num>89):\n",
        "    print('Grade A')\n",
        "elif(num>79 and num<90):\n",
        "    print('Grade B')\n",
        "elif(num>69 and num<80):\n",
        "    print('Grade C')\n",
        "else:\n",
        "    (num<70)\n",
        "    print('Grade F')"
      ]
    },
    {
      "cell_type": "code",
      "execution_count": null,
      "metadata": {
        "colab": {
          "base_uri": "https://localhost:8080/"
        },
        "id": "P-0NP68xz294",
        "outputId": "341914f3-b112-4287-c9e9-cad2314dbbad"
      },
      "outputs": [
        {
          "name": "stdout",
          "output_type": "stream",
          "text": [
            "Enter the Length in (cm): 432\n",
            "Enter the breadth in (cm): 634\n",
            "Total fencing cost of rectangular garden is:  358176.0\n"
          ]
        }
      ],
      "source": [
        "length=float(input('Enter the Length in (cm): '))\n",
        "breadth=float(input('Enter the breadth in (cm): '))\n",
        "perimeter=2*(length+breadth)\n",
        "cost_fencing=168*perimeter\n",
        "print('Total fencing cost of rectangular garden is: ',cost_fencing)"
      ]
    },
    {
      "cell_type": "code",
      "execution_count": null,
      "metadata": {
        "colab": {
          "base_uri": "https://localhost:8080/"
        },
        "id": "lcxel9yKWWef",
        "outputId": "38092691-b797-43d0-e934-7eccd5c2bd32"
      },
      "outputs": [
        {
          "name": "stdout",
          "output_type": "stream",
          "text": [
            "Enter the name of first person: David\n",
            "Enter the age of first person: 67\n",
            "Enter the name of second person: Jennifier\n",
            "Enter the age of second person: 32\n",
            "The youngest is Jennifier\n"
          ]
        }
      ],
      "source": [
        "ch1=input('Enter the name of first person: ')\n",
        "x=int(input('Enter the age of first person: '))\n",
        "ch2=input('Enter the name of second person: ')\n",
        "y=int(input('Enter the age of second person: '))\n",
        "if(x<y):\n",
        "    print('The youngest is',ch1)\n",
        "else:\n",
        "    print('The youngest is',ch2)"
      ]
    },
    {
      "cell_type": "code",
      "execution_count": null,
      "metadata": {
        "colab": {
          "base_uri": "https://localhost:8080/"
        },
        "id": "zDWCteKJpCgo",
        "outputId": "cc71200e-edd5-44af-c890-4a52bfb7f71b"
      },
      "outputs": [
        {
          "name": "stdout",
          "output_type": "stream",
          "text": [
            "Enter First side: 5\n",
            "Enter Second side: 10\n",
            "Enter Third side: 15\n",
            "Scalene Triangle\n"
          ]
        }
      ],
      "source": [
        "a=int(input('Enter First side: '))\n",
        "b=int(input('Enter Second side: '))\n",
        "c=int(input('Enter Third side: '))\n",
        "\n",
        "if(a==b and b==c):\n",
        "    print('Equilateral Triangle')\n",
        "elif(a==b or b==c or c==a):\n",
        "    print('Isosceles Triangle')\n",
        "else:\n",
        "    print('Scalene Triangle')"
      ]
    },
    {
      "cell_type": "code",
      "execution_count": null,
      "metadata": {
        "colab": {
          "base_uri": "https://localhost:8080/"
        },
        "id": "ZRyRQ36q0ZoO",
        "outputId": "2c4cd650-6dfe-4ce0-9564-79159154d163"
      },
      "outputs": [
        {
          "name": "stdout",
          "output_type": "stream",
          "text": [
            "Enter the value 3-digit number457\n",
            "532\n"
          ]
        }
      ],
      "source": [
        "x=int(input('Enter the value 3-digit number'))\n",
        "if(x>99) and (x<999):\n",
        "  a=x%10\n",
        "  x=int(x/10)\n",
        "  b=x%10\n",
        "  x=int(x/10)\n",
        "  print(a**3+b**3+x**3)\n",
        "else:\n",
        "  print(\"Invalid input\")"
      ]
    },
    {
      "cell_type": "code",
      "execution_count": null,
      "metadata": {
        "id": "ddO8L1yD9E6V",
        "colab": {
          "base_uri": "https://localhost:8080/"
        },
        "outputId": "65330c4a-1af3-461a-d44f-17ea2fbc0b43"
      },
      "outputs": [
        {
          "output_type": "stream",
          "name": "stdout",
          "text": [
            "Enter a number: 55\n",
            "125\n",
            "250\n"
          ]
        }
      ],
      "source": [
        "num=int(input('Enter a number: '))\n",
        "sum=0\n",
        "temp=num\n",
        "while temp>0:\n",
        "  digit=temp%10\n",
        "  sum+=digit**3\n",
        "  temp//=10\n",
        "  print(sum)\n"
      ]
    },
    {
      "cell_type": "code",
      "source": [
        "c=input('Enter a character: ')\n",
        "x='a'\n",
        "x=ord(c)\n",
        "if(x>65 and x<=90):\n",
        "  print('is a alphabet')\n",
        "elif(x>=48 and x<=57):\n",
        "  print('Digit')\n",
        "else:\n",
        "  print(c,'is specical character')"
      ],
      "metadata": {
        "colab": {
          "base_uri": "https://localhost:8080/"
        },
        "id": "E2X7kiZ6ZWA8",
        "outputId": "c935079c-db51-424f-b8cf-ca08060aa01b"
      },
      "execution_count": null,
      "outputs": [
        {
          "output_type": "stream",
          "name": "stdout",
          "text": [
            "Enter a character: A\n",
            "A is specical character\n"
          ]
        }
      ]
    },
    {
      "cell_type": "code",
      "source": [
        "c=input('Enter a character: ')\n",
        "x=ord(c)\n",
        "if(x>65 and x<=90):\n",
        "  print('is a alphabet')\n",
        "elif(x>=48 and x<=57):\n",
        "  print('Digit')\n",
        "else:\n",
        "  print(c,'is specical character')"
      ],
      "metadata": {
        "colab": {
          "base_uri": "https://localhost:8080/"
        },
        "id": "YwxgQgORZW7x",
        "outputId": "6170d548-2ffc-4648-f8b5-f548cc184fc0"
      },
      "execution_count": null,
      "outputs": [
        {
          "output_type": "stream",
          "name": "stdout",
          "text": [
            "Enter a character: A\n",
            "A is specical character\n"
          ]
        }
      ]
    },
    {
      "cell_type": "code",
      "execution_count": null,
      "metadata": {
        "colab": {
          "base_uri": "https://localhost:8080/"
        },
        "id": "snQNjAxm9x3V",
        "outputId": "09e09a1c-445a-4f5d-9791-8ba5881c4f4d"
      },
      "outputs": [
        {
          "data": {
            "text/plain": [
              "111"
            ]
          },
          "execution_count": 2,
          "metadata": {},
          "output_type": "execute_result"
        }
      ],
      "source": [
        "x=\"o\"\n",
        "ord(x)"
      ]
    },
    {
      "cell_type": "code",
      "source": [
        "x=int(input('Enter the x value: '))\n",
        "y=int(input('Enter the y value: '))\n",
        "\n",
        "if(x>0 and y>0):\n",
        "    print('First Quadrants')\n",
        "elif(x<0 and y>0):\n",
        "    print('Second Quadrants')\n",
        "elif(x<0 and y<0):\n",
        "    print('Third Quadrants')\n",
        "else:\n",
        "    print('Fourth Quadrants')"
      ],
      "metadata": {
        "colab": {
          "base_uri": "https://localhost:8080/"
        },
        "id": "Um94573WeBJJ",
        "outputId": "de74e932-7abd-437e-d349-9ca25a1a6a02"
      },
      "execution_count": null,
      "outputs": [
        {
          "output_type": "stream",
          "name": "stdout",
          "text": [
            "Enter the x value: -5\n",
            "Enter the y value: +1\n",
            "Second Quadrants\n"
          ]
        }
      ]
    },
    {
      "cell_type": "code",
      "execution_count": null,
      "metadata": {
        "colab": {
          "base_uri": "https://localhost:8080/"
        },
        "id": "74iKz_l091Xq",
        "outputId": "0d074ef1-f14d-42d9-ebeb-c806433802af"
      },
      "outputs": [
        {
          "output_type": "stream",
          "name": "stdout",
          "text": [
            "Enter a number: 5\n",
            "Factorial is:  120\n"
          ]
        }
      ],
      "source": [
        "fact=1\n",
        "n=int(input('Enter a number: '))\n",
        "if(n==0) or (n==1):\n",
        "    fact=1\n",
        "    print('Factorial is',fact)\n",
        "else:\n",
        "    for i in range(1,n+1):\n",
        "      fact=fact*i\n",
        "    print('Factorial is: ',fact)"
      ]
    },
    {
      "cell_type": "code",
      "execution_count": null,
      "metadata": {
        "id": "5xkIhLXvBMYH"
      },
      "outputs": [],
      "source": [
        "while(1):\n",
        "  b3,b2,b1,b0=eval(input('Enter a 4-bit binary number one bit at a time from MSB: '))\n",
        "  d=(b3*(2**3))+(b2*(2**2))+(b1*2)+b0\n",
        "  print('Decimal equivalent is:',d)\n",
        "  if d==0:\n",
        "    break\n",
        "  else:\n",
        "    if((d%5)==0):\n",
        "      print('THe number {0} is divisible by 5'.format(d))\n",
        "    else:\n",
        "      print('The number{0} is not divisible by 5'.format(d))"
      ]
    },
    {
      "cell_type": "code",
      "execution_count": null,
      "metadata": {
        "id": "Oum7tNueHyim",
        "colab": {
          "base_uri": "https://localhost:8080/"
        },
        "outputId": "910fa9d4-a90e-4336-886a-af1929ef1f52"
      },
      "outputs": [
        {
          "output_type": "stream",
          "name": "stdout",
          "text": [
            "Enter a number: 2\n",
            "Prime\n"
          ]
        }
      ],
      "source": [
        "flag=1\n",
        "num=int(input('Enter a number: '))\n",
        "for i in range(2,num//2+1):\n",
        "  if(num%i==0):\n",
        "    flag=0\n",
        "    break\n",
        "if(flag==0):\n",
        "    print('Not prime')\n",
        "else:\n",
        "    print('Prime')"
      ]
    },
    {
      "cell_type": "code",
      "source": [
        "num=int(input(\"multiplication table of: \"))\n",
        "\n",
        "for i in range(1,11):\n",
        "    print(num, 'x',i,'=', num*i)"
      ],
      "metadata": {
        "id": "dzYGzSt0cFc_",
        "colab": {
          "base_uri": "https://localhost:8080/"
        },
        "outputId": "5a3fa48c-a8cd-41eb-d122-b5a42988aad1"
      },
      "execution_count": null,
      "outputs": [
        {
          "output_type": "stream",
          "name": "stdout",
          "text": [
            "multiplication table of: 10\n",
            "10 x 1 = 10\n",
            "10 x 2 = 20\n",
            "10 x 3 = 30\n",
            "10 x 4 = 40\n",
            "10 x 5 = 50\n",
            "10 x 6 = 60\n",
            "10 x 7 = 70\n",
            "10 x 8 = 80\n",
            "10 x 9 = 90\n",
            "10 x 10 = 100\n"
          ]
        }
      ]
    },
    {
      "cell_type": "code",
      "source": [
        "np=0\n",
        "nn=0\n",
        "nz=0\n",
        "count=1\n",
        "n=int(input('Enter the total no. of numbers: '))\n",
        "while count<=n:\n",
        "  count=count+1\n",
        "  num=int(input('Enter a number: '))\n",
        "  if(num>0):\n",
        "      print('positive')\n",
        "      np=np+1\n",
        "  elif(num<0):\n",
        "      print('Negative')\n",
        "      nn=nn+1\n",
        "  else:\n",
        "      print('ZERO')\n",
        "      nz=nz+1\n",
        "print('\\n')\n",
        "print('POSITIVE COUNT: ',np)\n",
        "print('NEGATIVE COUNT: ',nn)\n",
        "print('ZERO COUNT: ',nz)"
      ],
      "metadata": {
        "colab": {
          "base_uri": "https://localhost:8080/"
        },
        "id": "zaDW61lUYUcH",
        "outputId": "b43cfb3c-8127-417f-e70b-c3e67b988ad5"
      },
      "execution_count": null,
      "outputs": [
        {
          "output_type": "stream",
          "name": "stdout",
          "text": [
            "Enter the total no. of numbers: 5\n",
            "Enter a number: 2\n",
            "positive\n",
            "Enter a number: 4\n",
            "positive\n",
            "Enter a number: -1\n",
            "Negative\n",
            "Enter a number: -3\n",
            "Negative\n",
            "Enter a number: 0\n",
            "ZERO\n",
            "\n",
            "\n",
            "POSITIVE COUNT:  2\n",
            "NEGATIVE COUNT:  2\n",
            "ZERO COUNT:  1\n"
          ]
        }
      ]
    },
    {
      "cell_type": "code",
      "source": [
        "inc = int(input(\"Enter the inc value\"))\n",
        "start = ord(input(\"Enter starting point\"))\n",
        "while start <= ord(\"z\"):\n",
        "  print(chr(start),end = \" \")\n",
        "  start += inc"
      ],
      "metadata": {
        "colab": {
          "base_uri": "https://localhost:8080/"
        },
        "id": "SwaCAfCsx3m9",
        "outputId": "7dc2465c-2165-4f3e-aa84-f05247e16eba"
      },
      "execution_count": null,
      "outputs": [
        {
          "output_type": "stream",
          "name": "stdout",
          "text": [
            "Enter the inc value2\n",
            "Enter starting pointc\n",
            "c e g i k m o q s u w y "
          ]
        }
      ]
    },
    {
      "cell_type": "markdown",
      "source": [
        "#PRACTICE PROBLEMS"
      ],
      "metadata": {
        "id": "Wh06iZD7yMEr"
      }
    },
    {
      "cell_type": "code",
      "source": [
        "h_age = int(input(\"Input a cat's age in human years: \"))\n",
        "if h_age < 0:\n",
        "   print(\"Age must be positive number.\")\n",
        "   exit()\n",
        "elif h_age <= 2:\n",
        "   c_age = h_age * 10.5\n",
        "else:\n",
        "   c_age = 21 + (h_age - 2)*4\n",
        "print(\"The cat's age in cat's years is\", c_age)\n"
      ],
      "metadata": {
        "colab": {
          "base_uri": "https://localhost:8080/"
        },
        "id": "O8P5jMm9yLOu",
        "outputId": "475a0f4d-7cf2-4f75-b096-05a1d90f6c9d"
      },
      "execution_count": null,
      "outputs": [
        {
          "output_type": "stream",
          "name": "stdout",
          "text": [
            "Input a cat's age in human years: 5\n",
            "The cat's age in cat's years is 33\n"
          ]
        }
      ]
    },
    {
      "cell_type": "code",
      "source": [
        "p = int(input(\"Enter price of Potato\"))\n",
        "t = int(input(\"Enter price of Tomato\"))\n",
        "o = int(input(\"Enter price of Onion\"))\n",
        "if p <= 20:\n",
        "   print(\"Buy 5kg\")\n",
        "else:\n",
        "   print(\"Buy 1kg\")\n",
        "if t <= 40:\n",
        "   print(\"Buy 2kg\")\n",
        "else:\n",
        "   print(\"Buy 1kg\")\n",
        "if o <= 100:\n",
        "   print(\"Buy 2kg\")\n",
        "else:\n",
        "   print(\"Buy 1kg\")\n"
      ],
      "metadata": {
        "colab": {
          "base_uri": "https://localhost:8080/"
        },
        "id": "2KRRNFLMybrm",
        "outputId": "8b453c65-da8c-4914-af2c-3c0b0cb6f650"
      },
      "execution_count": null,
      "outputs": [
        {
          "output_type": "stream",
          "name": "stdout",
          "text": [
            "Enter price of Potato19\n",
            "Enter price of Tomato39\n",
            "Enter price of Onion102\n",
            "Buy 5kg\n",
            "Buy 2kg\n",
            "Buy 1kg\n"
          ]
        }
      ]
    },
    {
      "cell_type": "code",
      "source": [
        "n=5;\n",
        "for i in range(n):\n",
        "   for j in range(i):\n",
        "      print ('* ', end=\"\")\n",
        "   print('')\n",
        "for i in range(n,0,-1):\n",
        "   for j in range(i):\n",
        "      print('* ', end=\"\")\n",
        "   print('')"
      ],
      "metadata": {
        "colab": {
          "base_uri": "https://localhost:8080/"
        },
        "id": "OjXtYHtIyxCx",
        "outputId": "676bc5e6-2efd-40b3-a575-09481ffd96e9"
      },
      "execution_count": null,
      "outputs": [
        {
          "output_type": "stream",
          "name": "stdout",
          "text": [
            "\n",
            "* \n",
            "* * \n",
            "* * * \n",
            "* * * * \n",
            "* * * * * \n",
            "* * * * \n",
            "* * * \n",
            "* * \n",
            "* \n"
          ]
        }
      ]
    },
    {
      "cell_type": "code",
      "source": [
        "datalist = [1452, 11.23, 1+2j, True, 'resource', (0, -1), [5, 12],\n",
        "{\"class\":'V', \"section\":'A'}]\n",
        "for item in datalist:\n",
        "    print (\"Type of \",item, \" is \", type(item))\n"
      ],
      "metadata": {
        "colab": {
          "base_uri": "https://localhost:8080/"
        },
        "id": "8lX47l-OzO7M",
        "outputId": "503d8405-ed4d-471e-cab2-48b26f78d7b6"
      },
      "execution_count": null,
      "outputs": [
        {
          "output_type": "stream",
          "name": "stdout",
          "text": [
            "Type of  1452  is  <class 'int'>\n",
            "Type of  11.23  is  <class 'float'>\n",
            "Type of  (1+2j)  is  <class 'complex'>\n",
            "Type of  True  is  <class 'bool'>\n",
            "Type of  resource  is  <class 'str'>\n",
            "Type of  (0, -1)  is  <class 'tuple'>\n",
            "Type of  [5, 12]  is  <class 'list'>\n",
            "Type of  {'class': 'V', 'section': 'A'}  is  <class 'dict'>\n"
          ]
        }
      ]
    },
    {
      "cell_type": "code",
      "source": [
        "for i in range(50):\n",
        "    if i==0:\n",
        "       print(i)\n",
        "       continue\n",
        "    if i%3 == 0 or i%5 == 0:\n",
        "       if i % 3 == 0 and i % 5 == 0:\n",
        "          print(i,\"THREEFIVE\")\n",
        "       elif i % 3 == 0:\n",
        "          print(i,\"THREE\")\n",
        "       elif i % 5 == 0:\n",
        "          print(i,\"FIVE\")\n",
        "    else:\n",
        "       print(i)\n"
      ],
      "metadata": {
        "colab": {
          "base_uri": "https://localhost:8080/"
        },
        "id": "xZDcHTIxzSGj",
        "outputId": "5d018b0e-1002-4e37-e415-6b3e4ee8012e"
      },
      "execution_count": null,
      "outputs": [
        {
          "output_type": "stream",
          "name": "stdout",
          "text": [
            "0\n",
            "1\n",
            "2\n",
            "3 THREE\n",
            "4\n",
            "5 FIVE\n",
            "6 THREE\n",
            "7\n",
            "8\n",
            "9 THREE\n",
            "10 FIVE\n",
            "11\n",
            "12 THREE\n",
            "13\n",
            "14\n",
            "15 THREEFIVE\n",
            "16\n",
            "17\n",
            "18 THREE\n",
            "19\n",
            "20 FIVE\n",
            "21 THREE\n",
            "22\n",
            "23\n",
            "24 THREE\n",
            "25 FIVE\n",
            "26\n",
            "27 THREE\n",
            "28\n",
            "29\n",
            "30 THREEFIVE\n",
            "31\n",
            "32\n",
            "33 THREE\n",
            "34\n",
            "35 FIVE\n",
            "36 THREE\n",
            "37\n",
            "38\n",
            "39 THREE\n",
            "40 FIVE\n",
            "41\n",
            "42 THREE\n",
            "43\n",
            "44\n",
            "45 THREEFIVE\n",
            "46\n",
            "47\n",
            "48 THREE\n",
            "49\n"
          ]
        }
      ]
    },
    {
      "cell_type": "code",
      "source": [
        "sdiv = 0\n",
        "n = int(input('Enter a number'))\n",
        "for i in range(1,n//2 +1):\n",
        "   if n % i == 0:\n",
        "      sdiv = sdiv + i\n",
        "if n == sdiv:\n",
        "   print('Perfect number')\n",
        "else:\n",
        "   print('Not a perfect number')"
      ],
      "metadata": {
        "colab": {
          "base_uri": "https://localhost:8080/"
        },
        "id": "5qHMshm70ozu",
        "outputId": "411049ec-4c00-4b9c-8b36-ffe3224b3280"
      },
      "execution_count": null,
      "outputs": [
        {
          "output_type": "stream",
          "name": "stdout",
          "text": [
            "Enter a number6\n",
            "Perfect number\n"
          ]
        }
      ]
    },
    {
      "cell_type": "code",
      "source": [
        "scubes = 0\n",
        "n = int(input('Enter a number'))\n",
        "num = n\n",
        "while n != 0:\n",
        "   digit = n % 10\n",
        "   scubes = scubes + digit ** 3\n",
        "   n = n//10\n",
        "if (scubes == num):\n",
        "   print('The number {0} is an armstrong number'.format(num))\n",
        "else:\n",
        "   print('The number {0} is not an armstrong number'.format(num))"
      ],
      "metadata": {
        "colab": {
          "base_uri": "https://localhost:8080/"
        },
        "id": "gdA4B7Yx03ss",
        "outputId": "1f14cb82-25d3-4487-d30a-23339af3c7e0"
      },
      "execution_count": null,
      "outputs": [
        {
          "output_type": "stream",
          "name": "stdout",
          "text": [
            "Enter a number153\n",
            "The number 153 is an armstrong number\n"
          ]
        }
      ]
    },
    {
      "cell_type": "code",
      "source": [
        "a = 0\n",
        "b = 1\n",
        "n = int(input('enter the number of terms'))\n",
        "if n == 1:\n",
        "   print(a)\n",
        "elif n == 2:\n",
        "   print(\"{0} \\n{1}\".format(a,b))\n",
        "else:\n",
        "   print(\"{0} \\n{1}\".format(a,b))\n",
        "   count = 2\n",
        "   while(count < n):\n",
        "      c = a + b\n",
        "      print(c)\n",
        "      count = count + 1\n",
        "      a = b\n",
        "      b = c\n"
      ],
      "metadata": {
        "colab": {
          "base_uri": "https://localhost:8080/"
        },
        "id": "YvBdKB6w1Lrf",
        "outputId": "1bf2aced-9ec8-4221-cb09-f604196b6e52"
      },
      "execution_count": null,
      "outputs": [
        {
          "output_type": "stream",
          "name": "stdout",
          "text": [
            "enter the number of terms10\n",
            "0 \n",
            "1\n",
            "1\n",
            "2\n",
            "3\n",
            "5\n",
            "8\n",
            "13\n",
            "21\n",
            "34\n"
          ]
        }
      ]
    },
    {
      "cell_type": "code",
      "source": [
        "nd = int(input(\"Enter the number of digits\"))\n",
        "num = 0\n",
        "for i in range(0, nd):\n",
        "   d = int(input(\"Enter a digit\"))\n",
        "   num = (num*10) + d\n",
        "print(\"The input number is\", num)"
      ],
      "metadata": {
        "colab": {
          "base_uri": "https://localhost:8080/"
        },
        "id": "FAcRarkT1jbE",
        "outputId": "2fa0c356-d411-40e3-90b1-89d217231871"
      },
      "execution_count": null,
      "outputs": [
        {
          "output_type": "stream",
          "name": "stdout",
          "text": [
            "Enter the number of digits5\n",
            "Enter a digit2\n",
            "Enter a digit7\n",
            "Enter a digit4\n",
            "Enter a digit5\n",
            "Enter a digit3\n",
            "The input number is 27453\n"
          ]
        }
      ]
    },
    {
      "cell_type": "code",
      "source": [
        "count = int(input(\"Enter the total number of numbers to print\"))\n",
        "a,b,c = 0,1,1\n",
        "print(a,'\\n',b,'\\n',c,'\\n')\n",
        "for i in range(0,count-3):\n",
        "   d = a + b + c\n",
        "   print(d,'\\n')\n",
        "   a = b\n",
        "   b = c\n",
        "   c = d\n"
      ],
      "metadata": {
        "colab": {
          "base_uri": "https://localhost:8080/"
        },
        "id": "ZPhDK8py120x",
        "outputId": "d7abca21-7a12-47e7-d683-060a3a7131f6"
      },
      "execution_count": null,
      "outputs": [
        {
          "output_type": "stream",
          "name": "stdout",
          "text": [
            "Enter the total number of numbers to print10\n",
            "0 \n",
            " 1 \n",
            " 1 \n",
            "\n",
            "2 \n",
            "\n",
            "4 \n",
            "\n",
            "7 \n",
            "\n",
            "13 \n",
            "\n",
            "24 \n",
            "\n",
            "44 \n",
            "\n",
            "81 \n",
            "\n"
          ]
        }
      ]
    }
  ]
}